{
 "cells": [
  {
   "cell_type": "code",
   "execution_count": 1,
   "id": "84038679",
   "metadata": {},
   "outputs": [],
   "source": [
    "import pandas as pd\n",
    "from pyvis.network import Network\n",
    "import numpy as np\n",
    "import re\n",
    "import math\n",
    "\n",
    "data = pd.read_excel(\"Matriz_para_redes.xlsx\")\n",
    "data = data.dropna(subset=['Actor EXT ', 'Actor COL'])\n",
    "data['Actor EXT '] = data['Actor EXT '].str.split().apply(lambda x: ' '.join(word.strip() for word in x))\n",
    "data['Actor COL'] = data['Actor COL'].str.split().apply(lambda x: ' '.join(word.strip() for word in x))\n",
    "data['Actor EXT '] = data['Actor EXT '].str.replace(r'\\n', '', regex=True)\n",
    "data['Actor COL'] = data['Actor COL'].str.replace(r'\\n', '', regex=True)"
   ]
  },
  {
   "cell_type": "code",
   "execution_count": 2,
   "id": "264ecce4",
   "metadata": {},
   "outputs": [],
   "source": [
    "data[\"Actor COL\"] = data[\"Actor COL\"].replace('Dirigentes sindicales de Telecom.', 'Dirigentes sindicales de Telecom')\n",
    "data[\"Actor COL\"] = data[\"Actor COL\"].replace('Ejercito Popular de Liberación', 'Ejército Popular de Liberación')\n",
    "data[\"Actor COL\"] = data[\"Actor COL\"].replace('Sacedorte', 'Sacerdote')\n",
    "data[\"Actor COL\"] = data[\"Actor COL\"].replace('ELN', 'Ejército de Liberación Nacional')\n",
    "data[\"Actor COL\"] = data[\"Actor COL\"].replace('Aministiado', 'Amnistiado')\n",
    "data[\"Actor COL\"] = data[\"Actor COL\"].replace('Partido Comunista Colombiano - Marxista Leninista', 'Partido Comunista Marxista-Leninista')\n",
    "data[\"Actor COL\"] = data[\"Actor COL\"].replace('Frente Unido del Pueblo', 'Frente Unido')\n",
    "\n",
    "data[\"Actor EXT \"] = data[\"Actor EXT \"].replace('Unión Sovietica', 'URSS')\n",
    "data[\"Actor EXT \"] = data[\"Actor EXT \"].replace('\"Comité\" Juvenil Soviético para los países de América Latina', 'Comité Juvenil Soviético para los países de América Latina')\n",
    "data[\"Actor EXT \"] = data[\"Actor EXT \"].replace('\"Consejo de los Sindicatos Soviéticos\"', 'Consejo de los Sindicatos Soviéticos')\n",
    "data[\"Actor EXT \"] = data[\"Actor EXT \"].replace('Brigada Simón Bolívar - Nicaragua', 'Brigada Simón Bolívar')\n",
    "data[\"Actor EXT \"] = data[\"Actor EXT \"].replace('Chequia', 'Checoslovaquia')\n",
    "data[\"Actor EXT \"] = data[\"Actor EXT \"].replace('Ché Guevara', 'Ernesto Che Guevara')\n",
    "data[\"Actor EXT \"] = data[\"Actor EXT \"].replace('Comité Ejecutivo de la Confederación de Trabajadores del PERU.', 'Comité Ejecutivo de la Confederación de Trabajadores del Perú')\n",
    "data[\"Actor EXT \"] = data[\"Actor EXT \"].replace('DANIEL COHN BENDIT', 'Daniel Cohn Bendit')\n",
    "data[\"Actor EXT \"] = data[\"Actor EXT \"].replace('Federación Internacional de Trabajadores del Transporte con sede en LONDRES', 'Federación Internacional de Trabajadores del Transporte')\n",
    "data[\"Actor EXT \"] = data[\"Actor EXT \"].replace('JEAN PAUL SARTRE', 'Jean Paul Sarte')\n",
    "data[\"Actor EXT \"] = data[\"Actor EXT \"].replace('MIGUEL ANGEL ASTURIAS', 'Miguel Aangel Asturias')\n",
    "data[\"Actor EXT \"] = data[\"Actor EXT \"].replace('PABLO NERUDA', 'Pablo Neruda')\n",
    "data[\"Actor EXT \"] = data[\"Actor EXT \"].replace('SIMONE DE BOVEAIRE', 'Simone De Boveaire')\n",
    "data[\"Actor EXT \"] = data[\"Actor EXT \"].replace('Universidades de Brasil.', 'Universidades de Brasil')\n",
    "data[\"Actor EXT \"] = data[\"Actor EXT \"].replace('Universidades de Méjico', 'Universidades de México')\n",
    "data[\"Actor EXT \"] = data[\"Actor EXT \"].replace('Universidades de Peru', 'Universidades de Perú')"
   ]
  },
  {
   "cell_type": "code",
   "execution_count": 3,
   "id": "8f901b37",
   "metadata": {},
   "outputs": [
    {
     "name": "stdout",
     "output_type": "stream",
     "text": [
      "Número de actores colombianos: 72\n"
     ]
    }
   ],
   "source": [
    "print(\"Número de actores colombianos:\", len(set(data[\"Actor COL\"])))\n",
    "#set(sorted(map(str, data[\"Actor COL\"]))) "
   ]
  },
  {
   "cell_type": "code",
   "execution_count": 4,
   "id": "c6705f9a",
   "metadata": {},
   "outputs": [
    {
     "name": "stdout",
     "output_type": "stream",
     "text": [
      "Número de actores exteriores: 85\n"
     ]
    }
   ],
   "source": [
    "print(\"Número de actores exteriores:\", len(set(data[\"Actor EXT \"])))\n",
    "#set(sorted(map(str, data[\"Actor EXT \"]))) "
   ]
  },
  {
   "cell_type": "code",
   "execution_count": 5,
   "id": "e65dd9cf",
   "metadata": {},
   "outputs": [
    {
     "data": {
      "text/plain": [
       "15"
      ]
     },
     "execution_count": 5,
     "metadata": {},
     "output_type": "execute_result"
    }
   ],
   "source": [
    "len(set(sorted(map(str, data['Tipo de relación o intercambio']))))"
   ]
  },
  {
   "cell_type": "code",
   "execution_count": 6,
   "id": "2f16fd74",
   "metadata": {},
   "outputs": [],
   "source": [
    "#set(sorted(map(str, data['Escala'])))"
   ]
  },
  {
   "cell_type": "code",
   "execution_count": 7,
   "id": "0ed42087",
   "metadata": {},
   "outputs": [],
   "source": [
    "#len(set(sorted(map(str, data['Año']))))"
   ]
  },
  {
   "cell_type": "code",
   "execution_count": 8,
   "id": "b7111ce3",
   "metadata": {},
   "outputs": [],
   "source": [
    "#selected_column = data[\"Actor COL\"]\n",
    "#selected_column_df = pd.DataFrame({'Actor COL': selected_column})\n",
    "#selected_column_df.to_excel(\"Matriz_para_redes_updated.xlsx\", index=False)"
   ]
  },
  {
   "cell_type": "code",
   "execution_count": 9,
   "id": "6880c497",
   "metadata": {},
   "outputs": [],
   "source": [
    "def edge_exists(graph, src, dst):\n",
    "    edges = graph.get_edges()\n",
    "    for edge in edges:\n",
    "        if set([edge['from'], edge['to']]) == set([src ,dst]):\n",
    "            return True\n",
    "    return False\n",
    "\n",
    "def find_edge_index(graph, src, dst):\n",
    "    edges = graph.get_edges()\n",
    "    for index, edge in enumerate(edges):\n",
    "        if set([edge['from'], edge['to']]) == set([src ,dst]):\n",
    "            return index\n",
    "    return None\n",
    "\n",
    "def node_exists(graph, node):\n",
    "    return node in graph.get_nodes()\n",
    "\n",
    "\n",
    "def find_node_index(graph, src):\n",
    "    nodes = graph.get_nodes()\n",
    "    for index, node in enumerate(nodes):\n",
    "        if node == src:\n",
    "            return index\n",
    "    return None"
   ]
  },
  {
   "cell_type": "code",
   "execution_count": 10,
   "id": "4c542ea9",
   "metadata": {},
   "outputs": [],
   "source": [
    "G = Network(select_menu=True, filter_menu=True, height=\"560px\", width=\"100%\", bgcolor=\"#FFFFFF\", font_color=\"black\", directed=False, notebook=True, cdn_resources='remote')\n",
    "G.options.interaction = {'hideEdgesOnDrag': False, 'hideNodesOnDrag': False, 'dragNodes': True, 'hover': True, 'multiselect': True}\n",
    "\n",
    "sources = data['Actor EXT ']\n",
    "targets = data['Actor COL']\n",
    "label = data['Tipo de relación o intercambio']\n",
    "escale = data['Escala']\n",
    "date = data['Año']\n",
    "\n",
    "edge_data = zip(sources, targets, label, escale, date)\n",
    "\n",
    "for src, dst, label, esca, dat in edge_data:\n",
    "    if not node_exists(G, src):\n",
    "        G.add_node(src, label=src, color='#DF0914', size=25, title=src) # Externos\n",
    "        \n",
    "    if not node_exists(G, dst):\n",
    "        G.add_node(dst, label=dst, color='#FED801', size=25, title=dst) # Internos\n",
    "    \n",
    "    if edge_exists(G, src, dst):\n",
    "        G.get_edges()[find_edge_index(G, src, dst)]['value'] += 0.25\n",
    "        \n",
    "        if label not in G.get_edges()[find_edge_index(G, src, dst)]['Tipo'].split(\", \"):\n",
    "            G.get_edges()[find_edge_index(G, src, dst)]['Tipo'] += \", \"+label\n",
    "            \n",
    "        if esca not in G.get_edges()[find_edge_index(G, src, dst)]['Escala'].split(\", \"):\n",
    "            G.get_edges()[find_edge_index(G, src, dst)]['Escala'] += \", \"+esca\n",
    "            \n",
    "        if not math.isnan(dat):\n",
    "            if f\"{int(dat):d}\" not in G.get_edges()[find_edge_index(G, src, dst)]['Año'].split(\", \"):\n",
    "                G.get_edges()[find_edge_index(G, src, dst)]['Año'] += \", \" + f\"{int(dat):d}\"\n",
    "        else:\n",
    "            if f\"{dat}\" not in G.get_edges()[find_edge_index(G, src, dst)]['Año'].split(\", \"):\n",
    "                pass\n",
    "    else:\n",
    "        if not math.isnan(dat):\n",
    "            edge_data = {\n",
    "                'source': src,\n",
    "                'to': dst,\n",
    "                'title': label,\n",
    "                'Tipo': label,\n",
    "                'color': {\n",
    "                    'color': \"#757574\",\n",
    "                    'highlight':'#000000',\n",
    "                    'hover': '#000000',\n",
    "                    'opacity': 0.85\n",
    "                },\n",
    "                'value': 1,\n",
    "                'Escala': esca,\n",
    "                'Año': f\"{int(dat):d}\",\n",
    "            }\n",
    "        else:\n",
    "            edge_data = {\n",
    "                'source': src,\n",
    "                'to': dst,\n",
    "                'title': label,\n",
    "                'Tipo': label,\n",
    "                'color': {\n",
    "                    'color': \"#757574\",\n",
    "                    'highlight':'#000000',\n",
    "                    'hover': '#000000',\n",
    "                    'opacity': 0.85\n",
    "                },\n",
    "                'value': 1,\n",
    "                'Escala': esca,\n",
    "                'Año': \"\"\n",
    "            }\n",
    "        G.add_edge(**edge_data)\n",
    "        \n",
    "pair_counts = {}\n",
    "for index, row in data.iterrows():\n",
    "    actor_col = row['Actor COL']\n",
    "    actor_ext = row['Actor EXT ']\n",
    "    # Sort the names to ensure consistency\n",
    "    pair = tuple(sorted([actor_col, actor_ext]))\n",
    "    if pair in pair_counts:\n",
    "        pair_counts[pair] += 1\n",
    "    else:\n",
    "        pair_counts[pair] = 1\n",
    "        \n",
    "for node in G.get_nodes():\n",
    "    degree = len(G.get_adj_list()[node]) - 1\n",
    "    count = ((data['Actor COL'] == node) | (data['Actor EXT '] == node)).sum()\n",
    "    G.nodes[find_node_index(G, node)]['size'] += 1.5*degree\n",
    "    G.nodes[find_node_index(G, node)]['title'] +=\"\\nNúmero actores conectados: \"+str(degree + 1)\n",
    "    G.nodes[find_node_index(G, node)]['title'] +=\"\\nNúmero de conexiones: \"+str(count)\n",
    "    \n",
    "for edge in G.get_edges():\n",
    "    label = \"Escala: \"+edge['Escala']+\"\\n\"+\"Año: \"+edge['Año']+\"\\n\"+\"Tipo de Conexión: \"+edge['Tipo']\n",
    "    G.edges[find_edge_index(G, edge['from'], edge['to'])]['title'] = label\n",
    "    G.edges[find_edge_index(G, edge['from'], edge['to'])]['title'] += \"\\n Numero de conexiones: \"+str( pair_counts.get(tuple(sorted((edge['from'], edge['to']))), 0))\n",
    "\n",
    "#G.show_buttons(filter_=['interaction', 'nodes'])\n",
    "G.barnes_hut(gravity=-3500, central_gravity=0.3, spring_strength=0.035, spring_length=190, overlap=0.65, damping=0.087)\n",
    "G.save_graph(\"test_net.html\")"
   ]
  },
  {
   "cell_type": "code",
   "execution_count": 11,
   "id": "1cd7429d",
   "metadata": {},
   "outputs": [
    {
     "data": {
      "text/plain": [
       "228"
      ]
     },
     "execution_count": 11,
     "metadata": {},
     "output_type": "execute_result"
    }
   ],
   "source": [
    "len(G.edges)"
   ]
  },
  {
   "cell_type": "code",
   "execution_count": 12,
   "id": "725b21b4",
   "metadata": {},
   "outputs": [
    {
     "data": {
      "text/plain": [
       "157"
      ]
     },
     "execution_count": 12,
     "metadata": {},
     "output_type": "execute_result"
    }
   ],
   "source": [
    "len(G.nodes)"
   ]
  },
  {
   "cell_type": "code",
   "execution_count": 13,
   "id": "d208679e",
   "metadata": {},
   "outputs": [
    {
     "name": "stdout",
     "output_type": "stream",
     "text": [
      "Organización de Solidaridad de los Pueblos de África, Asia y América Latina (1 conexiones), Universidad Libre (1 conexiones), Organización Continental Latinoamericana y Caribeña de Estudiantes (1 conexiones), Federación Universitaria Nacional (1 conexiones), Universidad Autónoma Latinoamericana (1 conexiones), Guatemala (1 conexiones), Sindicato Colombia Pretrolium Company (1 conexiones), Juventud Liberal Nacional (1 conexiones), Juventud Anapista (1 conexiones), Juventud Nacional Conservadora (1 conexiones), Juventud Movimiento Revolucionario Liberal (1 conexiones), Juventud Demócrata Cristiana (1 conexiones), New York (1 conexiones), Federación Sindical de Trabajadores de Cundinamarca (1 conexiones), Ciudadana (1 conexiones), México (1 conexiones), Grupos armados de Venezuela (1 conexiones), Congreso Internacional Comunista (1 conexiones), Comité Ejecutivo del \"Comité Coordinador de Organizaciones Juveniles de Colombia (CCOJC) (1 conexiones), Federación Nacional de Choferes (1 conexiones), Europa (1 conexiones), Conferencia Mundial (1 conexiones), Consejo de los Sindicatos Soviéticos (1 conexiones), Confederación Internacional de Organizaciones Sindicales Libres (1 conexiones), Alianza Colombo-Alemana (1 conexiones), Cuerpo diplomático URSS en Colombia (1 conexiones), Conferencia Internacional Comunista en Moscú (1 conexiones), Comité Ejecutivo de la Confederación de Trabajadores del Perú (1 conexiones), Instituto Colombo-Soviético (1 conexiones), Instituto Colombo-Alemán (1 conexiones), Union de Marinos Mercantes (1 conexiones), Federación nacional de trabajadores del transporte (1 conexiones), Acerías Paz del Río (1 conexiones), Miembros de Juventud rebelde generacion 70 (Venezuela) (1 conexiones), Fundación Científica Latinoamericana Camilo Torres (1 conexiones), Sindicato de Trabajadores de la Siderúrgica de Medellín (1 conexiones), Centro Colombo-Cubano (1 conexiones), Escuela Internacional de Moscú (1 conexiones), Mao Tse Tung (1 conexiones), Fidel Castro (1 conexiones), VII Congreso Sindical Mundial (1 conexiones), Dirigentes sindicales del sector del transporte (1 conexiones), Dirigentes sindicales de los maestros (1 conexiones), Dirigentes sindicales de Singer (1 conexiones), Dirigentes sindicales de Telecom (1 conexiones), Movimiento Nacional de Liberación de Colombia (1 conexiones), Teatro (1 conexiones), Obreros (1 conexiones), República Socialista Soviética de Bielorrusia (1 conexiones), Gobierno (1 conexiones), Sindicalista (1 conexiones), Docente (1 conexiones), Brasil (1 conexiones), Argelia (1 conexiones), Fuerzas de izquierda (1 conexiones), Paraguay (1 conexiones), Ejército Revolucionario del Pueblo (1 conexiones), Movimiento de Izquierda Revolucionaria (1 conexiones), Universidad Patrice Lumumba - URSS (1 conexiones), Estatal de Cuba (1 conexiones), Escuelas Técnicas de Nicaragua, (1 conexiones), Comité Juvenil Soviético para los países de América Latina (1 conexiones), Amnistiado (1 conexiones), Juventud Revolucionaria de Colombia (1 conexiones), América Latina (1 conexiones), Movimientos Cívicos (1 conexiones), Alfaro Vive Carajo (1 conexiones), Corea del Norte (1 conexiones), Panamá (1 conexiones), España (1 conexiones), "
     ]
    }
   ],
   "source": [
    "# Create an empty list to store (node, degree) pairs\n",
    "node_degrees = []\n",
    "\n",
    "# Calculate and store the degrees of all nodes\n",
    "for node in G.get_nodes():\n",
    "    count = int(G.get_node(node)['title'].split('\\n')[-1].split(' ')[-1])\n",
    "    node_degrees.append((node, count))\n",
    "\n",
    "# Sort the list of (node, degree) pairs in descending order based on degree\n",
    "    node_degrees.sort(key=lambda x: x[1], reverse=False)\n",
    "\n",
    "# Get the first 10 nodes with the highest degree\n",
    "top_nodes = node_degrees[:70]\n",
    "\n",
    "# Display the top nodes and their degrees\n",
    "for node, degree in top_nodes:\n",
    "    print(f\"{node} ({degree} conexiones),\", end=' ')"
   ]
  },
  {
   "cell_type": "code",
   "execution_count": 14,
   "id": "f42617a4",
   "metadata": {},
   "outputs": [
    {
     "name": "stdout",
     "output_type": "stream",
     "text": [
      "Cuba (24 actores), Sacerdote (19 actores), URSS (17 actores), Partido Comunista Colombiano (15 actores), Universidades de Colombia (15 actores), Intelectual (15 actores), M-19 (15 actores), Ejército de Liberación Nacional (11 actores), Frente Unido (9 actores), Chile (9 actores), "
     ]
    }
   ],
   "source": [
    "# Create an empty list to store (node, degree) pairs\n",
    "node_degrees = []\n",
    "\n",
    "# Calculate and store the degrees of all nodes\n",
    "for node in G.get_nodes():\n",
    "    degree = len(G.get_adj_list()[node])\n",
    "    node_degrees.append((node, degree))\n",
    "\n",
    "# Sort the list of (node, degree) pairs in descending order based on degree\n",
    "node_degrees.sort(key=lambda x: x[1], reverse=True)\n",
    "\n",
    "# Get the first 3 nodes with the highest degree\n",
    "top_nodes = node_degrees[:10]\n",
    "\n",
    "# Display the top nodes and their degrees\n",
    "for node, degree in top_nodes:\n",
    "    print(f\"{node} ({degree} actores),\", end=' ')"
   ]
  },
  {
   "cell_type": "code",
   "execution_count": 15,
   "id": "64e422c0",
   "metadata": {},
   "outputs": [
    {
     "data": {
      "image/png": "[encoded data removed]",
      "text/plain": [
       "<Figure size 432x288 with 1 Axes>"
      ]
     },
     "metadata": {},
     "output_type": "display_data"
    }
   ],
   "source": [
    "import networkx as nx\n",
    "import matplotlib.pyplot as plt\n",
    "import community\n",
    "\n",
    "# Create an undirected graph\n",
    "GG = nx.Graph()\n",
    "\n",
    "for edge in G.get_edges():\n",
    "    GG.add_edge(edge['from'], edge['to'])\n",
    "\n",
    "\n",
    "part = community.best_partition(GG)\n",
    "values = [part.get(node) for node in GG.nodes()]\n",
    "\n",
    "nx.draw_spring(GG, cmap = plt.get_cmap('jet'), node_color=values, node_size=6, with_labels=False)"
   ]
  },
  {
   "cell_type": "code",
   "execution_count": 16,
   "id": "c85f7f9f",
   "metadata": {},
   "outputs": [],
   "source": [
    "from collections import Counter\n",
    "\n",
    "counts = Counter(part.values())\n",
    "sorted_integers = sorted(counts, key=lambda k: counts[k], reverse=True)\n",
    "renaming_dict = {value: index for index, value in enumerate(sorted_integers)}\n",
    "part = {key: renaming_dict[value] for key, value in part.items()}\n",
    "\n",
    "colors = {0:'#DF0914', 1:'#FED801', 2:'#9eb5ff', 3:'#b6ffbc', 4:'#b95ae6', 5:'#066701', \n",
    "          6:'#ffb000', 7:'#3bbbdb', 8:'#e07007', 9:'#021fe0', 10:'#8700ff', 11:'#ff0075', \n",
    "          12:'#54f93e', 13:'#3600a4', 14:'#ff6d79', 15:'#f8e900', 16:'#DF0914'}\n",
    "\n",
    "for node in part:\n",
    "    G.nodes[find_node_index(G, node)]['color'] = colors[part[node]]\n",
    "    \n",
    "G.save_graph(\"comunity_net.html\")"
   ]
  },
  {
   "cell_type": "code",
   "execution_count": 17,
   "id": "b8631997",
   "metadata": {},
   "outputs": [
    {
     "name": "stdout",
     "output_type": "stream",
     "text": [
      "Cuba, Sacerdote, URSS, Partido Comunista Colombiano, Universidades de Colombia, Intelectual, M-19, "
     ]
    }
   ],
   "source": [
    "# Calcula la centralidad de grado\n",
    "degree_centrality = nx.degree_centrality(GG)\n",
    "\n",
    "# Ordena los nodos por centralidad de grado en orden descendente y obtiene los 5 nodos más centrales\n",
    "sorted_nodes = sorted(degree_centrality.items(), key=lambda x: x[1], reverse=True)\n",
    "top_nodes = sorted_nodes[:7]\n",
    "\n",
    "# Muestra los 5 nodos más centrales\n",
    "for node, centrality in top_nodes:\n",
    "    print(f\"{node},\", end=' ')"
   ]
  },
  {
   "cell_type": "code",
   "execution_count": 18,
   "id": "260af406",
   "metadata": {},
   "outputs": [
    {
     "data": {
      "image/png": "[encoded data removed]",
      "text/plain": [
       "<Figure size 432x288 with 1 Axes>"
      ]
     },
     "metadata": {
      "needs_background": "light"
     },
     "output_type": "display_data"
    }
   ],
   "source": [
    "# Calcula la distribución de grado\n",
    "degree_distribution = dict(nx.degree(GG))\n",
    "\n",
    "# Crea un histograma de la distribución de grado\n",
    "plt.plot(range(len(degree_distribution)), sorted(degree_distribution.values(), reverse=True), 'o-')\n",
    "plt.ylabel(\"# de Conexiones\")\n",
    "plt.yscale('log') \n",
    "plt.xlabel(\"ID del nodo\")\n",
    "plt.title(\"Distribución: # de Conexiones\")\n",
    "plt.show()"
   ]
  },
  {
   "cell_type": "code",
   "execution_count": null,
   "id": "05b419fe",
   "metadata": {},
   "outputs": [],
   "source": []
  }
 ],
 "metadata": {
  "kernelspec": {
   "display_name": "Python 3 (ipykernel)",
   "language": "python",
   "name": "python3"
  },
  "language_info": {
   "codemirror_mode": {
    "name": "ipython",
    "version": 3
   },
   "file_extension": ".py",
   "mimetype": "text/x-python",
   "name": "python",
   "nbconvert_exporter": "python",
   "pygments_lexer": "ipython3",
   "version": "3.10.12"
  }
 },
 "nbformat": 4,
 "nbformat_minor": 5
}
